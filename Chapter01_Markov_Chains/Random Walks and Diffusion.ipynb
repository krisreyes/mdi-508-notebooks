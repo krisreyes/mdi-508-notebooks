{
 "cells": [
  {
   "cell_type": "markdown",
   "id": "ab8d5aab",
   "metadata": {
    "slideshow": {
     "slide_type": "slide"
    }
   },
   "source": [
    "# Random Walk on a 1D Lattice\n",
    "\n",
    "Consider a particle that occupies positions on the 1D Lattice $\\mathbb Z$ and moves to the left or right every second.\n",
    "\n",
    "\n",
    "\n",
    "<div>\n",
    "    <img src=\"img/1.1.1.png\" style=\"width: 500px; margin: 20px auto\">\n",
    "</div>\n",
    "\n",
    "\n",
    "\n",
    "\n"
   ]
  },
  {
   "cell_type": "markdown",
   "id": "49137b62",
   "metadata": {
    "slideshow": {
     "slide_type": "subslide"
    }
   },
   "source": [
    "For convenience, we make the following definitions:\n",
    "\n",
    "* The particle's **state space** is the integer lattice $\\mathbb Z$."
   ]
  },
  {
   "cell_type": "markdown",
   "id": "a9f475f8",
   "metadata": {
    "slideshow": {
     "slide_type": "fragment"
    }
   },
   "source": [
    "* At *time $n$*, or after the $n$-th step, we can describe the position $S^n$"
   ]
  },
  {
   "cell_type": "markdown",
   "id": "a737619c",
   "metadata": {
    "slideshow": {
     "slide_type": "slide"
    }
   },
   "source": [
    "# Simulations of 2D Random Walk\n"
   ]
  },
  {
   "cell_type": "code",
   "execution_count": null,
   "id": "9d3ab3a5",
   "metadata": {
    "slideshow": {
     "slide_type": "notes"
    }
   },
   "outputs": [],
   "source": [
    "import numpy as np\n",
    "import matplotlib.pyplot as plt\n",
    "import utilities as ut\n",
    "ut.init(use_latex=False)\n",
    "\n",
    "# Seed random generator\n",
    "RNG = np.random.default_rng(seed=12345)\n",
    "\n",
    "# Increments: up, right, down, left\n",
    "DIRS = np.array([\n",
    "    [ 0,  1], # up\n",
    "    [ 1,  0], # right\n",
    "    [ 0, -1], # down\n",
    "    [-1,  0]  # left\n",
    "])\n",
    "\n",
    "# The function that performs a single random walk and returns the full history\n",
    "def random_walk_2D(rng, num_steps, step_probs = [0.25, 0.25, 0.25, 0.25]):\n",
    "\n",
    "    # The history of the entire walk, i.e. particle position\n",
    "    # at each step\n",
    "    state = np.zeros((num_steps, 2))\n",
    "\n",
    "    # take \"num_steps\" random steps\n",
    "    for n in range(1, num_steps):\n",
    "        # Sample a direction according to probabilities\n",
    "        sampled_dir_idx = rng.choice(4, p=step_probs)\n",
    "\n",
    "        # Take the step in the sampled direction\n",
    "        state[n] = state[n-1] + DIRS[sampled_dir_idx]\n",
    "        \n",
    "    return state\n",
    "\n",
    "# Sample and plot four symmetric random walks\n",
    "for i in range(4):\n",
    "    symmetric_rw = random_walk_2D(RNG, 1000) # Perform a walk\n",
    "    plt.plot(symmetric_rw[:, 0], symmetric_rw[:, 1]) # Plot the walk\n",
    "plt.title('Four symmetric random walks in 2D');"
   ]
  },
  {
   "cell_type": "markdown",
   "id": "b2e331dd",
   "metadata": {
    "slideshow": {
     "slide_type": "subslide"
    }
   },
   "source": [
    "With samples of the random walk, we can calculate sample statistics. This the fundamental reasoning behind the **Monte Carlo method** -- simulate samples of a quantity we are interested in, then characterize that quantity's distribution using the empirical samples obtained via simulation.\n",
    "\n",
    "\n",
    "\n"
   ]
  },
  {
   "cell_type": "code",
   "execution_count": null,
   "id": "1d70959a",
   "metadata": {
    "slideshow": {
     "slide_type": "fragment"
    }
   },
   "outputs": [],
   "source": [
    "NUM_MC_SAMPLES = 100\n",
    "\n",
    "displacement_samples = np.zeros(NUM_MC_SAMPLES)\n",
    "\n",
    "for i in range(NUM_MC_SAMPLES):\n",
    "    # Perform RW\n",
    "    symmetric_rw = random_walk_2D(RNG, 1000)\n",
    "    \n",
    "    # Calculate net displacement for this random walk\n",
    "    displacement_samples[i] = np.linalg.norm(symmetric_rw[0] - symmetric_rw[-1])\n",
    "    \n",
    "# Plot the histogram of this displacement\n",
    "_ = plt.hist(displacement_samples, rwidth=0.9, bins=NUM_MC_SAMPLES//5);"
   ]
  },
  {
   "cell_type": "markdown",
   "id": "a1b7836e",
   "metadata": {
    "slideshow": {
     "slide_type": "subslide"
    }
   },
   "source": [
    "You may want to characterize how this distribution changes with respect to the number of Monte Carlo sampled random walks. \n",
    "\n",
    "With this distribution, we can calculate summary statistics like expected value and standard deviation:"
   ]
  },
  {
   "cell_type": "code",
   "execution_count": null,
   "id": "532f9440",
   "metadata": {},
   "outputs": [],
   "source": [
    "print('          Expected net displacement after 1000 steps:', np.mean(displacement_samples))\n",
    "print('Stand deviation of net displacement after 1000 steps:', np.std(displacement_samples))\n"
   ]
  },
  {
   "cell_type": "markdown",
   "id": "81f51592",
   "metadata": {
    "slideshow": {
     "slide_type": "subslide"
    }
   },
   "source": [
    "Let's repeat this for different number of steps to see if we can observe a trend."
   ]
  },
  {
   "cell_type": "code",
   "execution_count": null,
   "id": "c1c992f8",
   "metadata": {
    "slideshow": {
     "slide_type": "notes"
    }
   },
   "outputs": [],
   "source": [
    "NUM_MC_SAMPLES = 100\n",
    "NUM_STEPS = [100*i for i in range(1, 50)]\n",
    "\n",
    "displacement_samples = np.zeros((len(NUM_STEPS), NUM_MC_SAMPLES))\n",
    "\n",
    "for i, N in enumerate(NUM_STEPS):\n",
    "    for j in range(NUM_MC_SAMPLES):\n",
    "        # Perform RW\n",
    "        symmetric_rw = random_walk_2D(RNG, N) \n",
    "\n",
    "        # Calculate net displacement for this random walk\n",
    "        displacement_samples[i, j] = np.linalg.norm(symmetric_rw[0] - symmetric_rw[-1])\n"
   ]
  },
  {
   "cell_type": "code",
   "execution_count": null,
   "id": "1ed02b05",
   "metadata": {
    "slideshow": {
     "slide_type": "subslide"
    }
   },
   "outputs": [],
   "source": [
    "\n",
    "plt.fill_between(NUM_STEPS, \n",
    "                 np.percentile(displacement_samples, 25, axis=1),\n",
    "                 np.percentile(displacement_samples, 75, axis=1), alpha=0.1)\n",
    "plt.plot(NUM_STEPS, np.median(displacement_samples, axis=1))\n",
    "plt.xlabel('Number of steps')\n",
    "plt.ylabel('Net displacement')\n"
   ]
  },
  {
   "cell_type": "markdown",
   "id": "eadde54f",
   "metadata": {},
   "source": [
    "* Non-symmetric RW\n",
    "\n",
    "* Inverse problem: Can we infer step probabilities from measurements of net displacement?"
   ]
  },
  {
   "cell_type": "code",
   "execution_count": null,
   "id": "15c7382b",
   "metadata": {},
   "outputs": [],
   "source": []
  }
 ],
 "metadata": {
  "kernelspec": {
   "display_name": "Python 3 (ipykernel)",
   "language": "python",
   "name": "python3"
  },
  "language_info": {
   "codemirror_mode": {
    "name": "ipython",
    "version": 3
   },
   "file_extension": ".py",
   "mimetype": "text/x-python",
   "name": "python",
   "nbconvert_exporter": "python",
   "pygments_lexer": "ipython3",
   "version": "3.11.0"
  }
 },
 "nbformat": 4,
 "nbformat_minor": 5
}
