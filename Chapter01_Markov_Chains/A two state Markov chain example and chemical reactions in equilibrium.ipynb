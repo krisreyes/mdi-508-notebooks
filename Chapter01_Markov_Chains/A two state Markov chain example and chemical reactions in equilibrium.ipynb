{
 "cells": [
  {
   "cell_type": "code",
   "execution_count": null,
   "id": "541eb5a1",
   "metadata": {},
   "outputs": [],
   "source": [
    "import numpy as np\n",
    "import matplotlib.pyplot as plt\n",
    "import utilities as ut\n",
    "ut.init(use_latex=False)\n",
    "\n",
    "# Simulates a single chain\n",
    "def simulate(rng, num_steps, p_A_B, p_B_A):\n",
    "    # define transition matrix\n",
    "    T = [[1 - p_A_B,     p_A_B],\n",
    "         [    p_B_A, 1 - p_B_A]]\n",
    "\n",
    "    # states: 0 = A, 1 = B. Initial state is always \"A\"\n",
    "    state_history = np.zeros(num_steps, dtype=int)\n",
    "    \n",
    "    # step num_steps times\n",
    "    for n in range(0, num_steps-1):\n",
    "        # sample a step S^n -> S^(n+1) using transition matrix\n",
    "        state_history[n+1] = rng.choice(2, p=T[state_history[n]]) \n",
    "        \n",
    "    return state_history\n",
    "\n",
    "# Simulates several chains\n",
    "def simulate_several_samples(rng, num_samples, num_steps, p_A_B, p_B_A):\n",
    "    samples = np.zeros((num_samples, num_steps))\n",
    "    for m in range(num_samples):\n",
    "        samples[m] = simulate(RNG, num_steps, p_A_B, p_B_A)\n",
    "    return samples"
   ]
  },
  {
   "cell_type": "markdown",
   "id": "e31b7e3a",
   "metadata": {},
   "source": [
    "Once we define our simulator, we can run it to obtain some sample chains."
   ]
  },
  {
   "cell_type": "code",
   "execution_count": null,
   "id": "97cd8ca5",
   "metadata": {},
   "outputs": [],
   "source": [
    "RNG = np.random.default_rng(seed = 12345)    \n",
    "\n",
    "# Run the simulator several time to sample some chains\n",
    "samples = simulate_several_samples(RNG, num_samples=1000, num_steps = 50, p_A_B = 0.5, p_B_A = 0.25)\n",
    "\n",
    "# Plot the first few chains\n",
    "plt.figure(figsize=(5,6))\n",
    "for m in range(5):\n",
    "    plt.subplot(5, 1, m+1)\n",
    "    plt.plot(samples[0], marker='.', markersize=10, linewidth=0)\n",
    "    \n",
    "    plt.yticks([0,1], ['A', 'B'])\n",
    "    \n",
    "    # Only plot horizontal axis labels on last plot to save space\n",
    "    if m < 4: \n",
    "        plt.xticks([])\n",
    "    else:\n",
    "        plt.xlabel('Time')\n",
    "plt.tight_layout()"
   ]
  },
  {
   "cell_type": "markdown",
   "id": "75bcdc9a",
   "metadata": {},
   "source": [
    "What is the impact of $p_{A,B}$ and $p_{B,A}$?\n",
    "\n",
    "## Summary statistics from Monte Carlo samples"
   ]
  },
  {
   "cell_type": "code",
   "execution_count": null,
   "id": "89821526",
   "metadata": {},
   "outputs": [],
   "source": [
    "plt.plot(np.mean(samples, axis=0), label='$p_B$')\n",
    "plt.plot(1-np.mean(samples, axis=0), label='$p_A$')\n",
    "plt.xlabel('Time')\n",
    "plt.ylabel('Probability')\n",
    "plt.legend();"
   ]
  },
  {
   "cell_type": "markdown",
   "id": "340db350",
   "metadata": {},
   "source": [
    "What is impact of $p_{A,B}$ and $p_{B,A}$?"
   ]
  },
  {
   "cell_type": "code",
   "execution_count": null,
   "id": "c5732c34",
   "metadata": {},
   "outputs": [],
   "source": [
    "samples = simulate_several_samples(RNG, \n",
    "                                   num_samples=1000, \n",
    "                                   num_steps = 50, \n",
    "                                   p_A_B = 0.1, \n",
    "                                   p_B_A = 0.1)\n",
    "\n",
    "plt.plot(1-np.mean(samples, axis=0), label='$[A]$')\n",
    "plt.plot(np.mean(samples, axis=0), label='$[B]$')\n",
    "\n",
    "plt.xlabel('Time')\n",
    "plt.ylabel('Concentration')\n",
    "plt.legend();"
   ]
  },
  {
   "cell_type": "markdown",
   "id": "76c7475f",
   "metadata": {},
   "source": [
    "# Thermodynamics and equilibrium"
   ]
  },
  {
   "cell_type": "code",
   "execution_count": null,
   "id": "5fa0e022",
   "metadata": {},
   "outputs": [],
   "source": [
    "# Analytic solution\n",
    "def equilibrium_concentration(p_A_B, p_B_A):\n",
    "    # define transition matrix\n",
    "    T = np.array([[1 - p_A_B,     p_A_B],\n",
    "                  [    p_B_A, 1 - p_B_A]])\n",
    "    \n",
    "    # Calculate eigenvalues/vectors\n",
    "    L, V = np.linalg.eig(T.T)\n",
    "    \n",
    "    # find the e.vector corresponding to e.value = 1\n",
    "    if np.abs(L[0]-1) < 1e-6:\n",
    "        idx = 0\n",
    "    else:\n",
    "        idx = 1\n",
    "    \n",
    "    # Return e.vector scaled so that sum = 1 (since this is a probability distribution)\n",
    "    pi = V[:, idx].T / np.sum(V[:, idx].T)\n",
    "    return pi"
   ]
  },
  {
   "cell_type": "markdown",
   "id": "a783adc3",
   "metadata": {},
   "source": [
    "Let's compare the analytically derived equilibrium distribution with what we obtain using Monte Carlo sampling."
   ]
  },
  {
   "cell_type": "code",
   "execution_count": null,
   "id": "22916c22",
   "metadata": {},
   "outputs": [],
   "source": [
    "P_A_B = 0.2\n",
    "P_B_A = 0.1\n",
    "\n",
    "# Analytically derived equilibrium concentration\n",
    "pi = equilibrium_concentration(p_A_B = P_A_B, \n",
    "                               p_B_A = P_B_A)\n",
    "\n",
    "# Monte Carlo samples\n",
    "samples = simulate_several_samples(RNG, \n",
    "                                   num_samples=1000, \n",
    "                                   num_steps = 50, \n",
    "                                   p_A_B = P_A_B, \n",
    "                                   p_B_A = P_B_A)\n",
    "\n",
    "# Plot Monte Carlo estimated mean\n",
    "plt.plot(np.mean(1.0 - samples, axis=0), label='$[A]$')\n",
    "plt.plot(np.mean(samples, axis=0), label='$[B]$')\n",
    "\n",
    "# Plot analytically derived equilibrium concentration\n",
    "plt.axhline(y=pi[0], linestyle=':', color = ut.COLORS[0], label = '$[A]_{eq}$')\n",
    "plt.axhline(y=pi[1], linestyle=':', color = ut.COLORS[1], label = '$[B]_{eq}$')\n",
    "\n",
    "plt.ylabel('Concentration')\n",
    "plt.xlabel('Time')\n",
    "plt.legend();"
   ]
  },
  {
   "cell_type": "markdown",
   "id": "60e30038",
   "metadata": {},
   "source": [
    "# Uncertainty quantification"
   ]
  },
  {
   "cell_type": "code",
   "execution_count": null,
   "id": "ad6ef0e2",
   "metadata": {
    "scrolled": false
   },
   "outputs": [],
   "source": [
    "P_A_B = 0.2\n",
    "P_B_A = 0.1\n",
    "NUM_SAMPLES = 1000\n",
    "NUM_STEPS = 50\n",
    "\n",
    "pi = equilibrium_concentration(p_A_B = P_A_B, p_B_A = P_B_A)\n",
    "samples = simulate_several_samples(RNG, \n",
    "                                   num_samples=NUM_SAMPLES, \n",
    "                                   num_steps=NUM_STEPS, \n",
    "                                   p_A_B = P_A_B, \n",
    "                                   p_B_A = P_B_A)\n",
    "\n",
    "# Plot Monte-carlo estimated mean\n",
    "time = np.arange(NUM_STEPS)\n",
    "mu_A = np.mean(1 - samples, axis = 0)\n",
    "sig_A = np.std(1 - samples, axis = 0)\n",
    "plt.plot(time, mu_A, label='$[A]$')\n",
    "plt.fill_between(time, mu_A + sig_A, mu_A - sig_A, \n",
    "                 label=None, color = ut.COLORS[0], alpha = 0.1)\n",
    "\n",
    "mu_B = np.mean(samples, axis = 0)\n",
    "sig_B = np.std(samples, axis = 0)\n",
    "plt.plot(time, mu_B, label='$[B]$')\n",
    "plt.fill_between(time, mu_B + sig_B, mu_B - sig_B, \n",
    "                 label=None, color = ut.COLORS[1], alpha = 0.1)\n",
    "\n",
    "# Plot analytically derived equilibrium concentration\n",
    "plt.axhline(y=pi[0], linestyle=':', color = ut.COLORS[0], label = '$[A]_{eq}$')\n",
    "plt.axhline(y=pi[1], linestyle=':', color = ut.COLORS[1], label = '$[B]_{eq}$')\n",
    "\n",
    "plt.xlabel('Time')\n",
    "plt.legend();"
   ]
  },
  {
   "cell_type": "code",
   "execution_count": null,
   "id": "bf03803e",
   "metadata": {},
   "outputs": [],
   "source": []
  },
  {
   "cell_type": "markdown",
   "id": "26d4456e",
   "metadata": {},
   "source": [
    "# Next steps\n",
    "\n",
    "We showed above that we can use Monte Carlo samples to estimate the equilibrium concentrations -- the asymptotic values as time goes to infinity (i.e. as we step the Markov Chain a large number of steps). Can we use Monte Carlo methods to approximate the *kinetics* of the reaction?\n",
    "\n",
    "\n",
    "To do this, we need the notion of a clock -- to time how long we are in a state in units other than number of MC steps. This will also help us with modeling *multiple* reactions."
   ]
  },
  {
   "cell_type": "code",
   "execution_count": null,
   "id": "b28593ab",
   "metadata": {},
   "outputs": [],
   "source": []
  }
 ],
 "metadata": {
  "kernelspec": {
   "display_name": "Python 3 (ipykernel)",
   "language": "python",
   "name": "python3"
  },
  "language_info": {
   "codemirror_mode": {
    "name": "ipython",
    "version": 3
   },
   "file_extension": ".py",
   "mimetype": "text/x-python",
   "name": "python",
   "nbconvert_exporter": "python",
   "pygments_lexer": "ipython3",
   "version": "3.11.0"
  }
 },
 "nbformat": 4,
 "nbformat_minor": 5
}
