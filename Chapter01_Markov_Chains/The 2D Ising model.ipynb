{
 "cells": [
  {
   "cell_type": "code",
   "execution_count": null,
   "id": "5881b8f3-776b-435f-9233-3216f53d33e0",
   "metadata": {
    "tags": []
   },
   "outputs": [],
   "source": [
    "import numpy as np\n",
    "import matplotlib.pyplot as plt\n",
    "import utilities\n",
    "utilities.init(use_latex = False)\n",
    "\n",
    "K_B = 8.617e-5 # Boltzmann's constant (eV/K)\n",
    "\n",
    "def energy(state, interaction_energy):\n",
    "    \"\"\" \n",
    "    Calculates the total energy assigned to the 2D spin lattice described \n",
    "    by `state`. We assume periodic boundary conditions\n",
    "    \"\"\"    \n",
    "    \n",
    "    state_shift_right = np.roll(state, 1, axis = 1)\n",
    "    state_shift_down = np.roll(state, 1, axis = 0)\n",
    "    \n",
    "    # count horizontal and vertical interactions\n",
    "    h_bonds = np.sum(state*state_shift_right)\n",
    "    v_bonds = np.sum(state*state_shift_down)\n",
    "    \n",
    "    return -interaction_energy*(h_bonds + v_bonds)\n",
    "\n",
    "\n",
    "def metropolis(rng, num_steps, interaction_energy, lattice_size, temp):\n",
    "    \"\"\"\n",
    "    Simulates a single markov chain according to the metropolis algorithm, \n",
    "    specifically for a Boltzmann stationary distribution. Proposal perturbations\n",
    "    are obtained by randomly flipping a single spin. \n",
    "    \"\"\"\n",
    "    \n",
    "    state_hist = np.zeros((num_steps, lattice_size, lattice_size))\n",
    "    energy_hist = np.zeros(num_steps)\n",
    "    \n",
    "    # random +/-1 initial spins\n",
    "    state_hist[0] = rng.choice([-1, 1], (lattice_size, lattice_size))\n",
    "    \n",
    "    # Initial energy\n",
    "    energy_hist[0] = energy(state_hist[0], interaction_energy)\n",
    "    \n",
    "    # Simulate MC for 'num_steps' steps\n",
    "    for n in range(0, num_steps-1):\n",
    "        # flip a single spin uniformly at random, then calculate energy\n",
    "        perturbed_state = np.copy(state_hist[n])\n",
    "        i = rng.choice(lattice_size)\n",
    "        j = rng.choice(lattice_size)\n",
    "        perturbed_state[i,j] *= -1\n",
    "        perturbed_energy = energy(perturbed_state, interaction_energy)\n",
    "        \n",
    "        # Metropolis criterion for Boltzmann distribution\n",
    "        u = rng.random()\n",
    "        if u < np.exp((energy_hist[n] - perturbed_energy)/(K_B*temp)): # Accept\n",
    "            state_hist[n+1] = perturbed_state\n",
    "            energy_hist[n+1] = perturbed_energy\n",
    "            \n",
    "        else: # Reject - use previous state\n",
    "            state_hist[n+1] = state_hist[n]\n",
    "            energy_hist[n+1] = energy_hist[n]\n",
    "            \n",
    "    return state_hist, energy_hist\n",
    "            \n",
    "    "
   ]
  },
  {
   "cell_type": "code",
   "execution_count": null,
   "id": "19264e19-cb10-4f7d-ac5c-cf2b8660075a",
   "metadata": {},
   "outputs": [],
   "source": [
    "A = np.zeros((5,3))\n",
    "for i in range(5):\n",
    "    for j in range(3):\n",
    "        A[i,j] = (i+1)*10 + j+1\n",
    "        \n",
    "print(\"A:\\n\", A)\n",
    "print(\"\\nnp.roll(A, 1, axis = 0):\\n\", np.roll(A, 1, axis = 0))\n",
    "print(\"\\nnp.roll(A, 1, axis = 1):\\n\", np.roll(A, 1, axis = 1))"
   ]
  },
  {
   "cell_type": "code",
   "execution_count": null,
   "id": "e393a11a-2dcb-4ad8-8634-0c229ac4ca70",
   "metadata": {
    "tags": []
   },
   "outputs": [],
   "source": [
    "RNG = np.random.default_rng(seed=12345)\n",
    "RNG.choice([-1, 1], (5,5))"
   ]
  },
  {
   "cell_type": "markdown",
   "id": "3cdd342b-e50f-4210-a218-8fefc3834764",
   "metadata": {},
   "source": [
    "## Running Metropolis"
   ]
  },
  {
   "cell_type": "code",
   "execution_count": null,
   "id": "9afda868-0267-409e-bd06-8cd4abb6dd04",
   "metadata": {
    "tags": []
   },
   "outputs": [],
   "source": [
    "RNG = np.random.default_rng(seed=12345)\n",
    "NUM_STEPS = 10000\n",
    "INTERACTION_ENERGY = 0.02 # eV\n",
    "LATTICE_SIZE = 10\n",
    "TEMP = 400\n",
    "\n",
    "# Run Metrpolis to obtain a single chain\n",
    "state_hist, energy_hist = metropolis(RNG, NUM_STEPS, INTERACTION_ENERGY, \n",
    "                                     LATTICE_SIZE, TEMP)\n",
    "\n",
    "plt.plot(energy_hist)\n",
    "plt.xlabel('Number MC Steps')\n",
    "plt.ylabel('Total Energy (eV)')"
   ]
  },
  {
   "cell_type": "markdown",
   "id": "4ba12d6e-84b0-42a4-8100-38221c8e23a0",
   "metadata": {},
   "source": [
    "What is the effect of temperature or number of steps?"
   ]
  },
  {
   "cell_type": "markdown",
   "id": "67b14d72-5a92-474d-8d0c-f3e6c893ff98",
   "metadata": {
    "tags": []
   },
   "source": [
    "# Ergodic sampling"
   ]
  },
  {
   "cell_type": "code",
   "execution_count": null,
   "id": "53a37501-98a3-43fc-803a-5fb683e1fa53",
   "metadata": {
    "tags": []
   },
   "outputs": [],
   "source": [
    "RNG = np.random.default_rng(seed=12345)\n",
    "NUM_STEPS = 10000\n",
    "INTERACTION_ENERGY = 0.02 # eV\n",
    "LATTICE_SIZE = 10\n",
    "TEMP = 500 \n",
    "BURN_IN = 6000\n",
    "THIN_RATE = 10\n",
    "\n",
    "# Run Metrpolis to obtain a single chain\n",
    "state_hist, energy_hist = metropolis(RNG,  NUM_STEPS,  INTERACTION_ENERGY, \n",
    "                                     LATTICE_SIZE, TEMP)\n",
    "\n",
    "# Subsample later states for a population from which we can calculate statistics\n",
    "\n",
    "sampled_states = state_hist[BURN_IN:-1:THIN_RATE]\n",
    "sampled_energies = energy_hist[BURN_IN:-1:THIN_RATE]\n",
    "print(\"%d sampled states\" % len(sampled_states))"
   ]
  },
  {
   "cell_type": "code",
   "execution_count": null,
   "id": "abafd37b-b36d-44e6-98ad-bb4e80c1c7f6",
   "metadata": {
    "tags": []
   },
   "outputs": [],
   "source": [
    "# Calculate the net magnitatization for all sampled states\n",
    "net_magnetization = np.abs(np.sum(np.sum(sampled_states, axis = 2), axis = 1))\n",
    "plt.hist(net_magnetization, bins = len(sampled_states)//50, rwidth=0.95)\n",
    "\n",
    "# MC calculated exected (averaged) net magnitization\n",
    "print(\"Expected net magnetization @ temp %4.0f K: %d\" % \n",
    "      (TEMP, np.mean(net_magnetization)))"
   ]
  },
  {
   "cell_type": "markdown",
   "id": "88cc7fda-5f89-457a-b9ee-ddd6e8d7b748",
   "metadata": {
    "tags": []
   },
   "source": [
    "# Net magnetization versus temperature"
   ]
  },
  {
   "cell_type": "code",
   "execution_count": null,
   "id": "09d16eca-d276-4f43-8de3-06805dfcc28e",
   "metadata": {
    "tags": []
   },
   "outputs": [],
   "source": [
    "def exp_net_magnetization(rng, temp, num_steps, interaction_energy, \n",
    "                          lattice_size, burn_in, thin_rate):\n",
    "    # Run Metropolis to obtain a single chain\n",
    "    state_hist, energy_hist = metropolis(rng, num_steps, interaction_energy, \n",
    "                                         lattice_size, temp)\n",
    "    \n",
    "    # apply burn-in and thinning:\n",
    "    sampled_states = state_hist[burn_in:-1:thin_rate]\n",
    "    sampled_energies = energy_hist[burn_in:-1:thin_rate] \n",
    "    \n",
    "    # Calculate the net magnitatization for all sampled states\n",
    "    net_magnetization = np.abs(\n",
    "        np.sum(np.sum(sampled_states, axis = 2), axis = 1))\n",
    "    \n",
    "    # Return expected magnetization\n",
    "    return np.mean(net_magnetization)    "
   ]
  },
  {
   "cell_type": "code",
   "execution_count": null,
   "id": "a6ee52d9-1948-4e50-ac91-09a8c03f8e0d",
   "metadata": {
    "tags": []
   },
   "outputs": [],
   "source": [
    "RNG = np.random.default_rng(seed = 12345)\n",
    "INTERACTION_ENERGY = 0.02 # eV\n",
    "LATTICE_SIZE = 10\n",
    "NUM_STEPS = 10000\n",
    "BURN_IN = 6000\n",
    "THIN_RATE = 10\n",
    "\n",
    "temps = range(100, 1500, 50)\n",
    "net_magnetizations = np.zeros(len(temps))\n",
    "    \n",
    "for i, temp in enumerate(temps):\n",
    "    net_magnetizations[i] = exp_net_magnetization(RNG, temp, NUM_STEPS, \n",
    "                                                  INTERACTION_ENERGY, \n",
    "                                                  LATTICE_SIZE, \n",
    "                                                  BURN_IN, THIN_RATE)\n",
    "plt.plot(temps, net_magnetizations)\n",
    "plt.xlabel('Temperature (K)')\n",
    "plt.ylabel('Net Magnetization')"
   ]
  },
  {
   "cell_type": "markdown",
   "id": "bbdf3931-5dfe-4b6e-a441-c216e94856fa",
   "metadata": {},
   "source": [
    "* Low temperature, number of steps, ergodic assumptions and effect of initial state."
   ]
  },
  {
   "cell_type": "code",
   "execution_count": null,
   "id": "b03dce48-cfb8-4d91-a4a3-5540d507cc75",
   "metadata": {
    "tags": []
   },
   "outputs": [],
   "source": [
    "RNG = np.random.default_rng(seed = 12345)\n",
    "INTERACTION_ENERGY = 0.02 # eV\n",
    "LATTICE_SIZE = 10\n",
    "NUM_STEPS = 10000\n",
    "BURN_IN = 6000\n",
    "THIN_RATE = 10\n",
    "NUM_CHAINS = 10\n",
    "\n",
    "temps = range(100, 1500, 50)\n",
    "net_magnetizations = np.zeros((len(temps), NUM_CHAINS))\n",
    "\n",
    "# Now iterate over temperatures and several chains per temperature\n",
    "for i, temp in enumerate(temps):\n",
    "    for j in range(NUM_CHAINS):\n",
    "        net_magnetizations[i, j] = exp_net_magnetization(RNG, temp, NUM_STEPS, \n",
    "                                                         INTERACTION_ENERGY, \n",
    "                                                         LATTICE_SIZE, \n",
    "                                                         BURN_IN, THIN_RATE)\n",
    "        \n",
    "# Average over chains, then plot\n",
    "net_magnetizations = np.mean(net_magnetizations, axis=1)\n",
    "plt.plot(temps, net_magnetizations)\n",
    "plt.xlabel('Temperature (K)')\n",
    "plt.ylabel('Net Magnetization')"
   ]
  },
  {
   "cell_type": "code",
   "execution_count": null,
   "id": "fffb8da2-e4ef-4422-9fa4-540236b7502e",
   "metadata": {},
   "outputs": [],
   "source": []
  }
 ],
 "metadata": {
  "kernelspec": {
   "display_name": "Python 3 (ipykernel)",
   "language": "python",
   "name": "python3"
  },
  "language_info": {
   "codemirror_mode": {
    "name": "ipython",
    "version": 3
   },
   "file_extension": ".py",
   "mimetype": "text/x-python",
   "name": "python",
   "nbconvert_exporter": "python",
   "pygments_lexer": "ipython3",
   "version": "3.11.0"
  }
 },
 "nbformat": 4,
 "nbformat_minor": 5
}
